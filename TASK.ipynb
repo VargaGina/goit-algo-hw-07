{
 "cells": [
  {
   "cell_type": "code",
   "execution_count": 1,
   "metadata": {},
   "outputs": [
    {
     "name": "stdout",
     "output_type": "stream",
     "text": [
      "Minimum connection cost: 29\n"
     ]
    }
   ],
   "source": [
    "import heapq\n",
    "\n",
    "def min_connection_cost(cables):\n",
    "    # Step 1: Convert cables list into a heap (min-heap)\n",
    "    heapq.heapify(cables)\n",
    "\n",
    "    total_cost = 0\n",
    "\n",
    "    # Step 2: While more than one cable remains\n",
    "    while len(cables) > 1:\n",
    "        # Pop two smallest cables\n",
    "        first = heapq.heappop(cables)\n",
    "        second = heapq.heappop(cables)\n",
    "\n",
    "        # The cost to connect them is their sum\n",
    "        cost = first + second\n",
    "        total_cost += cost\n",
    "\n",
    "        # Push the resulting cable back into the heap\n",
    "        heapq.heappush(cables, cost)\n",
    "\n",
    "    return total_cost\n",
    "\n",
    "# Example usage:\n",
    "cables = [4, 3, 2, 6]\n",
    "print(\"Minimum connection cost:\", min_connection_cost(cables))  "
   ]
  }
 ],
 "metadata": {
  "kernelspec": {
   "display_name": "Python 3",
   "language": "python",
   "name": "python3"
  },
  "language_info": {
   "codemirror_mode": {
    "name": "ipython",
    "version": 3
   },
   "file_extension": ".py",
   "mimetype": "text/x-python",
   "name": "python",
   "nbconvert_exporter": "python",
   "pygments_lexer": "ipython3",
   "version": "3.12.3"
  }
 },
 "nbformat": 4,
 "nbformat_minor": 2
}
